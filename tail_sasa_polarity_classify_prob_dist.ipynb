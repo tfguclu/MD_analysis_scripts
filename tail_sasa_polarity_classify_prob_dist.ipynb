{
 "cells": [
  {
   "cell_type": "code",
   "execution_count": 1,
   "metadata": {},
   "outputs": [],
   "source": [
    "from prody import *\n",
    "from numpy import *\n",
    "from pylab import *\n",
    "import numpy as np\n",
    "import matplotlib.pyplot as plt\n",
    "from os.path import basename\n",
    "import fnmatch\n",
    "import os\n",
    "from matplotlib.colors import LogNorm\n",
    "from sklearn import mixture\n",
    "from sklearn.cluster import MeanShift\n",
    "from scipy.stats import kurtosis\n",
    "from scipy.stats import skew"
   ]
  },
  {
   "cell_type": "code",
   "execution_count": 2,
   "metadata": {},
   "outputs": [],
   "source": [
    "structure_names_c = [\"5hdy_c\",\"5heb_c\",\"5hed_c\",\"5het_c\",\"5hey_c\",\"5hf1_c\",\"5hf4_c\",\"5hfb_c\",\"5hfc_c\",\"5hfd_c\",\"5hfe_c\",\"5hff_c\"]\n",
    "variables_c = []\n",
    "variable_names_c = []"
   ]
  },
  {
   "cell_type": "code",
   "execution_count": 3,
   "metadata": {},
   "outputs": [],
   "source": [
    "structure_names = [\"5hdy\",\"5heb\",\"5hed\",\"5het\",\"5hey\",\"5hf1\",\"5hf4\",\"5hfb\",\"5hfc\",\"5hfd\",\"5hfe\",\"5hff\"]\n",
    "variables = []\n",
    "variable_names = []"
   ]
  },
  {
   "cell_type": "code",
   "execution_count": 4,
   "metadata": {},
   "outputs": [
    {
     "name": "stdout",
     "output_type": "stream",
     "text": [
      "hdy_c\n",
      "heb_c\n",
      "hed_c\n",
      "het_c\n",
      "hey_c\n",
      "hf1_c\n",
      "hf4_c\n",
      "hfb_c\n",
      "hfc_c\n",
      "hfd_c\n",
      "hfe_c\n",
      "hff_c\n"
     ]
    }
   ],
   "source": [
    "for str_name in structure_names_c:\n",
    "    array_1 = np.loadtxt(str(str_name[:-2]+\"_eq_sasa_charged.dat\"))\n",
    "    array_2 = np.loadtxt(str(str_name[:-2]+\"_protein_eq_sasa_charged.dat\"))\n",
    "    arrays = np.concatenate((array_1,array_2),axis= None)\n",
    "    print(str_name[1:])\n",
    "    exec(\"%s = %s\" % (str_name[1:],\"arrays\"))\n",
    "    exec(\"variables_c.append(%s)\" % (str_name[1:]))\n",
    "    variable_names_c.append(str_name[1:])"
   ]
  },
  {
   "cell_type": "code",
   "execution_count": 5,
   "metadata": {},
   "outputs": [
    {
     "name": "stdout",
     "output_type": "stream",
     "text": [
      "hdy\n",
      "heb\n",
      "hed\n",
      "het\n",
      "hey\n",
      "hf1\n",
      "hf4\n",
      "hfb\n",
      "hfc\n",
      "hfd\n",
      "hfe\n",
      "hff\n"
     ]
    }
   ],
   "source": [
    "for str_name in structure_names:\n",
    "    array_1 = np.loadtxt(str(str_name+\"_eq_sasa_apolar.dat\"))\n",
    "    array_2 = np.loadtxt(str(str_name+\"_protein_eq_sasa_apolar.dat\"))\n",
    "    arrays = np.concatenate((array_1,array_2),axis= None)\n",
    "    print(str_name[1:])\n",
    "    exec(\"%s = %s\" % (str_name[1:],\"arrays\"))\n",
    "    exec(\"variables.append(%s)\" % (str_name[1:]))\n",
    "    variable_names.append(str_name[1:])"
   ]
  },
  {
   "cell_type": "code",
   "execution_count": 6,
   "metadata": {},
   "outputs": [
    {
     "data": {
      "text/plain": [
       "28800"
      ]
     },
     "execution_count": 6,
     "metadata": {},
     "output_type": "execute_result"
    }
   ],
   "source": [
    "variables_flat_c = np.asarray(variables_c).flatten()\n",
    "len(variables_flat_c)"
   ]
  },
  {
   "cell_type": "code",
   "execution_count": 7,
   "metadata": {},
   "outputs": [
    {
     "data": {
      "text/plain": [
       "28800"
      ]
     },
     "execution_count": 7,
     "metadata": {},
     "output_type": "execute_result"
    }
   ],
   "source": [
    "variables_flat = np.asarray(variables).flatten()\n",
    "len(variables_flat)"
   ]
  },
  {
   "cell_type": "code",
   "execution_count": 8,
   "metadata": {},
   "outputs": [
    {
     "name": "stdout",
     "output_type": "stream",
     "text": [
      "762.6842307387458\n",
      "767.1388549804688\n",
      "59.354057824396854\n",
      "959.04541015625\n",
      "498.1779479980469\n",
      "21965305.84527588\n"
     ]
    }
   ],
   "source": [
    "print(np.mean(variables_flat_c))\n",
    "print(np.median(variables_flat_c))\n",
    "print(np.std(variables_flat_c))\n",
    "print(np.max(variables_flat_c))\n",
    "print(np.min(variables_flat_c))\n",
    "print(np.sum(variables_flat_c))"
   ]
  },
  {
   "cell_type": "code",
   "execution_count": 9,
   "metadata": {},
   "outputs": [
    {
     "name": "stdout",
     "output_type": "stream",
     "text": [
      "585.5618950208028\n",
      "593.4679870605469\n",
      "114.36712437419874\n",
      "845.401123046875\n",
      "326.16595458984375\n",
      "16864182.57659912\n"
     ]
    }
   ],
   "source": [
    "print(np.mean(variables_flat))\n",
    "print(np.median(variables_flat))\n",
    "print(np.std(variables_flat))\n",
    "print(np.max(variables_flat))\n",
    "print(np.min(variables_flat))\n",
    "print(np.sum(variables_flat))"
   ]
  },
  {
   "cell_type": "code",
   "execution_count": 10,
   "metadata": {},
   "outputs": [
    {
     "name": "stdout",
     "output_type": "stream",
     "text": [
      "38829488.421875\n"
     ]
    }
   ],
   "source": [
    "print(np.add(variables_flat_c, variables_flat).sum())"
   ]
  },
  {
   "cell_type": "code",
   "execution_count": 11,
   "metadata": {},
   "outputs": [
    {
     "data": {
      "image/png": "[encoded data removed]",
      "text/plain": [
       "<Figure size 432x288 with 2 Axes>"
      ]
     },
     "metadata": {
      "needs_background": "light"
     },
     "output_type": "display_data"
    }
   ],
   "source": [
    "tail_dist_hist_c = np.histogram(variables_flat_c,bins=np.arange(300,1000,10), density=True)\n",
    "plt.subplot(221)\n",
    "plt.hist(variables_flat_c, bins=np.arange(300,1000,10), density=True);\n",
    "plt.title(\"Charged\")\n",
    "#plt.show()\n",
    "#plt.close()\n",
    "\n",
    "tail_dist_hist = np.histogram(variables_flat,bins=np.arange(300,1000,10), density=True)\n",
    "plt.subplot(222)\n",
    "plt.hist(variables_flat, bins=np.arange(300,1000,10), density=True);\n",
    "plt.title(\"Apolar\")\n",
    "plt.subplots_adjust(wspace = 0.5)\n",
    "plt.savefig(\"aLL_sasa_tail.png\")\n",
    "plt.show()\n",
    "plt.close()"
   ]
  },
  {
   "cell_type": "code",
   "execution_count": 12,
   "metadata": {},
   "outputs": [
    {
     "name": "stdout",
     "output_type": "stream",
     "text": [
      "0.4701307817427227\n",
      "1.4210347994492016\n",
      "-1.417195008290052\n",
      "0.20675309994853133\n"
     ]
    }
   ],
   "source": [
    "print(kurtosis(tail_dist_hist_c[0]))\n",
    "print(skew(tail_dist_hist_c[0]))\n",
    "print(kurtosis(tail_dist_hist[0]))\n",
    "print(skew(tail_dist_hist[0]))"
   ]
  },
  {
   "cell_type": "code",
   "execution_count": 13,
   "metadata": {},
   "outputs": [
    {
     "name": "stdout",
     "output_type": "stream",
     "text": [
      "hdy calculations\n"
     ]
    },
    {
     "data": {
      "image/png": "[encoded data removed]",
      "text/plain": [
       "<Figure size 432x288 with 2 Axes>"
      ]
     },
     "metadata": {
      "needs_background": "light"
     },
     "output_type": "display_data"
    },
    {
     "name": "stdout",
     "output_type": "stream",
     "text": [
      "heb calculations\n"
     ]
    },
    {
     "data": {
      "image/png": "[encoded data removed]",
      "text/plain": [
       "<Figure size 432x288 with 2 Axes>"
      ]
     },
     "metadata": {
      "needs_background": "light"
     },
     "output_type": "display_data"
    },
    {
     "name": "stdout",
     "output_type": "stream",
     "text": [
      "hed calculations\n"
     ]
    },
    {
     "data": {
      "image/png": "[encoded data removed]",
      "text/plain": [
       "<Figure size 432x288 with 2 Axes>"
      ]
     },
     "metadata": {
      "needs_background": "light"
     },
     "output_type": "display_data"
    },
    {
     "name": "stdout",
     "output_type": "stream",
     "text": [
      "het calculations\n"
     ]
    },
    {
     "data": {
      "image/png": "[encoded data removed]",
      "text/plain": [
       "<Figure size 432x288 with 2 Axes>"
      ]
     },
     "metadata": {
      "needs_background": "light"
     },
     "output_type": "display_data"
    },
    {
     "name": "stdout",
     "output_type": "stream",
     "text": [
      "hey calculations\n"
     ]
    },
    {
     "data": {
      "image/png": "[encoded data removed]",
      "text/plain": [
       "<Figure size 432x288 with 2 Axes>"
      ]
     },
     "metadata": {
      "needs_background": "light"
     },
     "output_type": "display_data"
    },
    {
     "name": "stdout",
     "output_type": "stream",
     "text": [
      "hf1 calculations\n"
     ]
    },
    {
     "data": {
      "image/png": "[encoded data removed]",
      "text/plain": [
       "<Figure size 432x288 with 2 Axes>"
      ]
     },
     "metadata": {
      "needs_background": "light"
     },
     "output_type": "display_data"
    },
    {
     "name": "stdout",
     "output_type": "stream",
     "text": [
      "hf4 calculations\n"
     ]
    },
    {
     "data": {
      "image/png": "[encoded data removed]",
      "text/plain": [
       "<Figure size 432x288 with 2 Axes>"
      ]
     },
     "metadata": {
      "needs_background": "light"
     },
     "output_type": "display_data"
    },
    {
     "name": "stdout",
     "output_type": "stream",
     "text": [
      "hfb calculations\n"
     ]
    },
    {
     "data": {
      "image/png": "[encoded data removed]",
      "text/plain": [
       "<Figure size 432x288 with 2 Axes>"
      ]
     },
     "metadata": {
      "needs_background": "light"
     },
     "output_type": "display_data"
    },
    {
     "name": "stdout",
     "output_type": "stream",
     "text": [
      "hfc calculations\n"
     ]
    },
    {
     "data": {
      "image/png": "[encoded data removed]",
      "text/plain": [
       "<Figure size 432x288 with 2 Axes>"
      ]
     },
     "metadata": {
      "needs_background": "light"
     },
     "output_type": "display_data"
    },
    {
     "name": "stdout",
     "output_type": "stream",
     "text": [
      "hfd calculations\n"
     ]
    },
    {
     "data": {
      "image/png": "[encoded data removed]",
      "text/plain": [
       "<Figure size 432x288 with 2 Axes>"
      ]
     },
     "metadata": {
      "needs_background": "light"
     },
     "output_type": "display_data"
    },
    {
     "name": "stdout",
     "output_type": "stream",
     "text": [
      "hfe calculations\n"
     ]
    },
    {
     "data": {
      "image/png": "[encoded data removed]",
      "text/plain": [
       "<Figure size 432x288 with 2 Axes>"
      ]
     },
     "metadata": {
      "needs_background": "light"
     },
     "output_type": "display_data"
    },
    {
     "name": "stdout",
     "output_type": "stream",
     "text": [
      "hff calculations\n"
     ]
    },
    {
     "data": {
      "image/png": "[encoded data removed]",
      "text/plain": [
       "<Figure size 432x288 with 2 Axes>"
      ]
     },
     "metadata": {
      "needs_background": "light"
     },
     "output_type": "display_data"
    }
   ],
   "source": [
    "for i in range(12):\n",
    "    print(variable_names[i]+\" calculations\")\n",
    "\n",
    "    tail_dist_hist_c = np.histogram(variables_c[i],bins=np.arange(300,1000,10), density=True)\n",
    "    np.savetxt(variable_names[i]+\"_charged_sasa_dist.dat\", tail_dist_hist_c[0])\n",
    "    tail_dist_hist_a = np.histogram(variables[i],bins=np.arange(300,1000,10), density=True)\n",
    "    np.savetxt(variable_names[i]+\"_apolar_sasa_dist.dat\", tail_dist_hist_a[0])\n",
    "\n",
    "    plt.subplot(221)\n",
    "    plt.hist(variables_c[i], bins=np.arange(300,1000,10), density=True);\n",
    "    plt.title(\"Charged\")\n",
    "\n",
    "\n",
    "    plt.subplot(222)\n",
    "    tail_dist_hist = np.histogram(variables[i],bins=np.arange(300,1000,10), density=True)\n",
    "    plt.hist(variables[i], bins=np.arange(300,1000,10), density=True);\n",
    "    plt.title(\"Apolar\")\n",
    "    plt.subplots_adjust(wspace = 0.5)\n",
    "    plt.savefig(variable_names[i]+\"_sasa_tail.png\")\n",
    "    plt.show()\n",
    "    plt.close()\n"
   ]
  },
  {
   "cell_type": "code",
   "execution_count": 14,
   "metadata": {},
   "outputs": [],
   "source": [
    "np.savetxt(\"bins_sasa.dat\"\\\n",
    "           ,np.arange(300,1000,10), fmt=\"%i\")"
   ]
  },
  {
   "cell_type": "code",
   "execution_count": 58,
   "metadata": {},
   "outputs": [
    {
     "name": "stdout",
     "output_type": "stream",
     "text": [
      "hdy_c calculations\n",
      "750.1249098968506 59.81851476397893\n",
      "heb_c calculations\n",
      "797.7085075378418 31.720001013080534\n",
      "hed_c calculations\n",
      "779.2977045186361 51.43435420915036\n",
      "het_c calculations\n",
      "783.3862519327799 58.09151175107336\n",
      "hey_c calculations\n",
      "786.8270370992025 40.0641230293643\n",
      "hf1_c calculations\n",
      "758.2821194966634 46.98943838465286\n",
      "hf4_c calculations\n",
      "712.157621383667 66.18344414171537\n",
      "hfb_c calculations\n",
      "776.0734106953939 50.094059744632524\n",
      "hfc_c calculations\n",
      "759.8304090118409 30.60147788619755\n",
      "hfd_c calculations\n",
      "784.5348738098145 61.69145829885561\n",
      "hfe_c calculations\n",
      "727.9724243672689 80.64187683850092\n",
      "hff_c calculations\n",
      "736.0154991149902 43.55355194948013\n"
     ]
    }
   ],
   "source": [
    "for i in range(12):\n",
    "    print(variable_names_c[i]+\" calculations\")\n",
    "    print(np.mean(variables_c[i]), np.std(variables_c[i]))"
   ]
  },
  {
   "cell_type": "markdown",
   "metadata": {},
   "source": [
    "## Error of STD"
   ]
  },
  {
   "cell_type": "code",
   "execution_count": 55,
   "metadata": {},
   "outputs": [
    {
     "name": "stdout",
     "output_type": "stream",
     "text": [
      "hdy_c calculations\n",
      "43.62845318988273 2.8077597372240954\n",
      "heb_c calculations\n",
      "29.687865610042255 1.3131464882610826\n",
      "hed_c calculations\n",
      "39.5725799969442 2.4753347355458972\n",
      "het_c calculations\n",
      "49.32572200948527 7.163877261536062\n",
      "hey_c calculations\n",
      "36.916422007331306 1.7638493879813284\n",
      "hf1_c calculations\n",
      "35.035427480501255 3.0223106183838\n",
      "hf4_c calculations\n",
      "47.95599593878882 5.832513821395748\n",
      "hfb_c calculations\n",
      "27.104441539364444 1.3373386506036473\n",
      "hfc_c calculations\n",
      "25.521809962702516 0.6780784914757965\n",
      "hfd_c calculations\n",
      "51.97069690082034 4.972691464525234\n",
      "hfe_c calculations\n",
      "36.98101840966107 3.56081721927818\n",
      "hff_c calculations\n",
      "37.43889493292031 3.041314735274866\n"
     ]
    }
   ],
   "source": [
    "for i in range(12):\n",
    "    print(variable_names_c[i]+\" calculations\")\n",
    "#    print(np.std(variables_c[i]))\n",
    "    temp_var = variables_c[i]\n",
    "    temp_var_chunks = np.split(temp_var, 6)\n",
    "#    print(np.shape(temp_var_chunks))\n",
    "    dev_of_chunks = np.std(temp_var_chunks, axis=1)\n",
    "    dev_of_chunks_mean = np.mean(dev_of_chunks)\n",
    "    dev_of_chunks_error = np.std(dev_of_chunks)/np.sqrt(6)\n",
    "    print(dev_of_chunks_mean, dev_of_chunks_error)\n",
    "    #print(np.std(temp_var_2,axis=1))"
   ]
  },
  {
   "cell_type": "markdown",
   "metadata": {},
   "source": [
    "## Error of MEAN"
   ]
  },
  {
   "cell_type": "code",
   "execution_count": 57,
   "metadata": {},
   "outputs": [
    {
     "name": "stdout",
     "output_type": "stream",
     "text": [
      "hdy_c calculations\n",
      "750.1249098968506 16.469728253044117\n",
      "heb_c calculations\n",
      "797.7085075378418 4.3673595682842965\n",
      "hed_c calculations\n",
      "779.2977045186361 13.182943607681066\n",
      "het_c calculations\n",
      "783.3862519327799 10.276754199470085\n",
      "hey_c calculations\n",
      "786.8270370992024 6.105253916474599\n",
      "hf1_c calculations\n",
      "758.2821194966633 12.421218218030877\n",
      "hf4_c calculations\n",
      "712.157621383667 17.68408619407947\n",
      "hfb_c calculations\n",
      "776.0734106953938 17.146589663543388\n",
      "hfc_c calculations\n",
      "759.8304090118409 6.859651623849963\n",
      "hfd_c calculations\n",
      "784.5348738098145 12.626141719162993\n",
      "hfe_c calculations\n",
      "727.9724243672689 29.038595184700938\n",
      "hff_c calculations\n",
      "736.0154991149902 8.560991586880355\n"
     ]
    }
   ],
   "source": [
    "for i in range(12):\n",
    "    print(variable_names_c[i]+\" calculations\")\n",
    "#    print(np.std(variables_c[i]))\n",
    "    temp_var = variables_c[i]\n",
    "    temp_var_chunks = np.split(temp_var, 6)\n",
    "#    print(np.shape(temp_var_chunks))\n",
    "    mean_of_chunks = np.mean(temp_var_chunks, axis=1)\n",
    "    mean_of_chunks_mean = np.mean(mean_of_chunks)\n",
    "    mean_of_chunks_error = np.std(mean_of_chunks)/np.sqrt(6)\n",
    "    print(mean_of_chunks_mean, mean_of_chunks_error)\n",
    "    #print(np.std(temp_var_2,axis=1))"
   ]
  },
  {
   "cell_type": "code",
   "execution_count": null,
   "metadata": {},
   "outputs": [],
   "source": []
  }
 ],
 "metadata": {
  "kernelspec": {
   "display_name": "Python 3",
   "language": "python",
   "name": "python3"
  },
  "language_info": {
   "codemirror_mode": {
    "name": "ipython",
    "version": 3
   },
   "file_extension": ".py",
   "mimetype": "text/x-python",
   "name": "python",
   "nbconvert_exporter": "python",
   "pygments_lexer": "ipython3",
   "version": "3.7.7"
  }
 },
 "nbformat": 4,
 "nbformat_minor": 4
}

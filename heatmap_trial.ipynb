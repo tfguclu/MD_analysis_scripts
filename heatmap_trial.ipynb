{
 "cells": [
  {
   "cell_type": "code",
   "execution_count": 3,
   "metadata": {},
   "outputs": [],
   "source": [
    "import numpy as np\n",
    "#import seaborn as sn\n",
    "import matplotlib.pyplot as plt\n",
    "from matplotlib import cm\n",
    "import os\n",
    "import fnmatch"
   ]
  },
  {
   "cell_type": "raw",
   "metadata": {},
   "source": [
    "corr = np.loadtxt(\"hdy_avg.dat\")\n",
    "namer_corr = \"hdy_avg\""
   ]
  },
  {
   "cell_type": "code",
   "execution_count": 4,
   "metadata": {},
   "outputs": [
    {
     "ename": "NameError",
     "evalue": "name 'corr' is not defined",
     "output_type": "error",
     "traceback": [
      "\u001b[1;31m---------------------------------------------------------------------------\u001b[0m",
      "\u001b[1;31mNameError\u001b[0m                                 Traceback (most recent call last)",
      "\u001b[1;32m<ipython-input-4-1b7a8fd72778>\u001b[0m in \u001b[0;36m<module>\u001b[1;34m\u001b[0m\n\u001b[1;32m----> 1\u001b[1;33m \u001b[0mlenght\u001b[0m \u001b[1;33m=\u001b[0m \u001b[0mlen\u001b[0m\u001b[1;33m(\u001b[0m\u001b[0mcorr\u001b[0m\u001b[1;33m)\u001b[0m\u001b[1;33m\u001b[0m\u001b[1;33m\u001b[0m\u001b[0m\n\u001b[0m",
      "\u001b[1;31mNameError\u001b[0m: name 'corr' is not defined"
     ]
    }
   ],
   "source": [
    "lenght = len(corr)"
   ]
  },
  {
   "cell_type": "code",
   "execution_count": 4,
   "metadata": {},
   "outputs": [
    {
     "name": "stdout",
     "output_type": "stream",
     "text": [
      "106\n"
     ]
    }
   ],
   "source": [
    "print(lenght)"
   ]
  },
  {
   "cell_type": "raw",
   "metadata": {},
   "source": [
    "ax = sn.heatmap(corr, vmin= -1, vmax=1, xticklabels=list(range(310, 415)))\n",
    "ax.\n",
    "xticklabels(list(range(310, 415,10)))"
   ]
  },
  {
   "cell_type": "raw",
   "metadata": {},
   "source": [
    "len(range(299,416))"
   ]
  },
  {
   "cell_type": "code",
   "execution_count": 5,
   "metadata": {},
   "outputs": [
    {
     "name": "stdout",
     "output_type": "stream",
     "text": [
      "106\n"
     ]
    },
    {
     "data": {
      "image/png": "[encoded data removed]",
      "text/plain": [
       "<Figure size 432x288 with 2 Axes>"
      ]
     },
     "metadata": {
      "needs_background": "light"
     },
     "output_type": "display_data"
    }
   ],
   "source": [
    "for file in os.listdir('.'):\n",
    "    if fnmatch.fnmatch(file, 'hed_avg_new.dat'):\n",
    "        \n",
    "        corr = np.loadtxt(str(file))\n",
    "        print(len(corr))\n",
    "        file_name_wh_ex = str(os.path.splitext(file)[0])\n",
    "        fig, ax = plt.subplots()\n",
    "\n",
    "        arange = np.arange(310,415)\n",
    "        cax = plt.imshow(corr, vmin=-1, vmax=1, cmap=cm.seismic, extent=[310,415,310,415], origin=\"lower\")\n",
    "        # Add colorbar, make sure to specify tick locations to match desired ticklabels\n",
    "        cbar = fig.colorbar(cax, ticks=[-1, 0, 1])\n",
    "        #cbar.ax.set_yticklabels(['- 1','- 0.5', '0', '0.5', '1'])  # vertically oriented colorbar\n",
    " #       plt.axis([arange[0]+0.5, arange[-1]+1.5, arange[0]+0.5, arange[-1]+1.5])\n",
    " #       plt.xticks([arange[0]+0.5, arange[-1]+1.5, arange[0]+0.5, arange[-1]+1.5], np.arange(310,415))\n",
    "        plt.savefig(str(file_name_wh_ex)+\"_correlation\", dpi=300, bbox_inches='tight')\n",
    "        plt.show()\n",
    "        plt.close()\n"
   ]
  },
  {
   "cell_type": "code",
   "execution_count": 9,
   "metadata": {},
   "outputs": [
    {
     "name": "stdout",
     "output_type": "stream",
     "text": [
      "0.8310883263965185\n"
     ]
    }
   ],
   "source": [
    "import numpy as np\n",
    "\n",
    "cov1 = np.loadtxt(\"hed_avg_new.dat\")\n",
    "cov2 = np.loadtxt(\"hdy_avg.dat\")\n",
    "\n",
    "#cov1 = np.loadtxt(cov1)\n",
    "#cov2 = np.loadtxt(cov2)\n",
    "mag_cov1 = np.linalg.norm(cov1)\n",
    "mag_cov2 = np.linalg.norm(cov2)\n",
    "dot_prdct = ((cov1*cov2)/(mag_cov1*mag_cov2)).sum()\n",
    "print(dot_prdct)"
   ]
  },
  {
   "cell_type": "code",
   "execution_count": 2,
   "metadata": {},
   "outputs": [
    {
     "data": {
      "text/plain": [
       "-0.5940232729709912"
      ]
     },
     "execution_count": 2,
     "metadata": {},
     "output_type": "execute_result"
    }
   ],
   "source": []
  },
  {
   "cell_type": "code",
   "execution_count": 3,
   "metadata": {},
   "outputs": [
    {
     "data": {
      "text/plain": [
       "4.097411378425484"
      ]
     },
     "execution_count": 3,
     "metadata": {},
     "output_type": "execute_result"
    }
   ],
   "source": [
    "np.max(cc_matrix)"
   ]
  },
  {
   "cell_type": "code",
   "execution_count": null,
   "metadata": {},
   "outputs": [],
   "source": []
  }
 ],
 "metadata": {
  "kernelspec": {
   "display_name": "Python 3",
   "language": "python",
   "name": "python3"
  },
  "language_info": {
   "codemirror_mode": {
    "name": "ipython",
    "version": 3
   },
   "file_extension": ".py",
   "mimetype": "text/x-python",
   "name": "python",
   "nbconvert_exporter": "python",
   "pygments_lexer": "ipython3",
   "version": "3.7.4"
  }
 },
 "nbformat": 4,
 "nbformat_minor": 4
}

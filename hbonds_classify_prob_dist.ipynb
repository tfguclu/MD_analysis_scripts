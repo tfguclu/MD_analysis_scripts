{
 "cells": [
  {
   "cell_type": "code",
   "execution_count": 2,
   "metadata": {},
   "outputs": [],
   "source": [
    "from prody import *\n",
    "from numpy import *\n",
    "from pylab import *\n",
    "import numpy as np\n",
    "import matplotlib.pyplot as plt\n",
    "from os.path import basename\n",
    "import fnmatch\n",
    "import os\n",
    "from matplotlib.colors import LogNorm\n",
    "from sklearn import mixture\n",
    "from sklearn.cluster import MeanShift\n",
    "from scipy.stats import kurtosis\n",
    "from scipy.stats import skew"
   ]
  },
  {
   "cell_type": "code",
   "execution_count": 3,
   "metadata": {},
   "outputs": [],
   "source": [
    "structure_names = [\"5heb\",\"5hed\",\"5hey\",\"5hf1\",\"5hfb\",\"5hfc\",\"5hfe\",\"5hff\"]\n",
    "variables = []\n",
    "variable_names = []"
   ]
  },
  {
   "cell_type": "code",
   "execution_count": 5,
   "metadata": {},
   "outputs": [
    {
     "name": "stdout",
     "output_type": "stream",
     "text": [
      "heb\n",
      "hed\n",
      "hey\n",
      "hf1\n",
      "hfb\n",
      "hfc\n",
      "hfe\n",
      "hff\n"
     ]
    }
   ],
   "source": [
    "for str_name in structure_names:\n",
    "    array_1 = np.loadtxt(str(str_name+\"_eq_hbonds.dat\"))\n",
    "    array_2 = np.loadtxt(str(str_name+\"_protein_eq_hbonds.dat\"))\n",
    "    arrays = np.concatenate((array_1[:,1],array_2[:,1]),axis= None)\n",
    "    print(str_name[1:])\n",
    "    exec(\"%s = %s\" % (str_name[1:],\"arrays\"))\n",
    "    exec(\"variables.append(%s)\" % (str_name[1:]))\n",
    "    variable_names.append(str_name[1:])"
   ]
  },
  {
   "cell_type": "code",
   "execution_count": 4,
   "metadata": {},
   "outputs": [
    {
     "data": {
      "text/plain": [
       "19200"
      ]
     },
     "execution_count": 4,
     "metadata": {},
     "output_type": "execute_result"
    }
   ],
   "source": [
    "variables_flat = np.asarray(variables).flatten()\n",
    "len(variables_flat)"
   ]
  },
  {
   "cell_type": "code",
   "execution_count": 5,
   "metadata": {},
   "outputs": [
    {
     "name": "stdout",
     "output_type": "stream",
     "text": [
      "3.4770833333333333\n",
      "3.0\n",
      "1.6562997896080154\n",
      "11.0\n",
      "0.0\n"
     ]
    }
   ],
   "source": [
    "print(np.mean(variables_flat))\n",
    "print(np.median(variables_flat))\n",
    "print(np.std(variables_flat))\n",
    "print(np.max(variables_flat))\n",
    "print(np.min(variables_flat))"
   ]
  },
  {
   "cell_type": "code",
   "execution_count": 6,
   "metadata": {},
   "outputs": [
    {
     "data": {
      "image/png": "[encoded data removed]",
      "text/plain": [
       "<Figure size 432x288 with 1 Axes>"
      ]
     },
     "metadata": {
      "needs_background": "light"
     },
     "output_type": "display_data"
    }
   ],
   "source": [
    "tail_dist_hist = np.histogram(variables_flat,bins=np.arange(0,11,1), density=True)\n",
    "\n",
    "plt.hist(variables_flat, bins=np.arange(0,11,1), density=True);\n",
    "plt.savefig(\"all_hbonds.png\")\n",
    "plt.show()\n",
    "plt.close()"
   ]
  },
  {
   "cell_type": "code",
   "execution_count": 7,
   "metadata": {},
   "outputs": [
    {
     "name": "stdout",
     "output_type": "stream",
     "text": [
      "-1.412178738178887\n",
      "0.3761664785594982\n"
     ]
    }
   ],
   "source": [
    "print(kurtosis(tail_dist_hist[0]))\n",
    "print(skew(tail_dist_hist[0]))"
   ]
  },
  {
   "cell_type": "code",
   "execution_count": 8,
   "metadata": {},
   "outputs": [
    {
     "name": "stdout",
     "output_type": "stream",
     "text": [
      "heb calculations\n"
     ]
    },
    {
     "data": {
      "image/png": "[encoded data removed]",
      "text/plain": [
       "<Figure size 432x288 with 1 Axes>"
      ]
     },
     "metadata": {
      "needs_background": "light"
     },
     "output_type": "display_data"
    },
    {
     "name": "stdout",
     "output_type": "stream",
     "text": [
      "mean: 3.15625\n",
      "median: 3.0\n",
      "std: 1.4440115203256978\n",
      "max: 8.0\n",
      "min: 0.0\n",
      "\n",
      "\n",
      "kurtosis: -1.271219801843585\n",
      "skewness: 0.5601783624927502\n",
      "\n",
      "\n",
      "hed calculations\n"
     ]
    },
    {
     "data": {
      "image/png": "[encoded data removed]",
      "text/plain": [
       "<Figure size 432x288 with 1 Axes>"
      ]
     },
     "metadata": {
      "needs_background": "light"
     },
     "output_type": "display_data"
    },
    {
     "name": "stdout",
     "output_type": "stream",
     "text": [
      "mean: 3.120833333333333\n",
      "median: 3.0\n",
      "std: 1.607140101408572\n",
      "max: 11.0\n",
      "min: 0.0\n",
      "\n",
      "\n",
      "kurtosis: -1.3940204847863076\n",
      "skewness: 0.4084426105158435\n",
      "\n",
      "\n",
      "hey calculations\n"
     ]
    },
    {
     "data": {
      "image/png": "[encoded data removed]",
      "text/plain": [
       "<Figure size 432x288 with 1 Axes>"
      ]
     },
     "metadata": {
      "needs_background": "light"
     },
     "output_type": "display_data"
    },
    {
     "name": "stdout",
     "output_type": "stream",
     "text": [
      "mean: 3.205416666666667\n",
      "median: 3.0\n",
      "std: 1.6106067158234365\n",
      "max: 11.0\n",
      "min: 0.0\n",
      "\n",
      "\n",
      "kurtosis: -1.405747740717532\n",
      "skewness: 0.3685355553563025\n",
      "\n",
      "\n",
      "hf1 calculations\n"
     ]
    },
    {
     "data": {
      "image/png": "[encoded data removed]",
      "text/plain": [
       "<Figure size 432x288 with 1 Axes>"
      ]
     },
     "metadata": {
      "needs_background": "light"
     },
     "output_type": "display_data"
    },
    {
     "name": "stdout",
     "output_type": "stream",
     "text": [
      "mean: 3.86375\n",
      "median: 4.0\n",
      "std: 1.6636363597553403\n",
      "max: 10.0\n",
      "min: 0.0\n",
      "\n",
      "\n",
      "kurtosis: -1.370798172049899\n",
      "skewness: 0.44798847021478433\n",
      "\n",
      "\n",
      "hfb calculations\n"
     ]
    },
    {
     "data": {
      "image/png": "[encoded data removed]",
      "text/plain": [
       "<Figure size 432x288 with 1 Axes>"
      ]
     },
     "metadata": {
      "needs_background": "light"
     },
     "output_type": "display_data"
    },
    {
     "name": "stdout",
     "output_type": "stream",
     "text": [
      "mean: 3.53\n",
      "median: 3.0\n",
      "std: 1.666313295872058\n",
      "max: 10.0\n",
      "min: 0.0\n",
      "\n",
      "\n",
      "kurtosis: -1.3763547466189536\n",
      "skewness: 0.39567386059101484\n",
      "\n",
      "\n",
      "hfc calculations\n"
     ]
    },
    {
     "data": {
      "image/png": "[encoded data removed]",
      "text/plain": [
       "<Figure size 432x288 with 1 Axes>"
      ]
     },
     "metadata": {
      "needs_background": "light"
     },
     "output_type": "display_data"
    },
    {
     "name": "stdout",
     "output_type": "stream",
     "text": [
      "mean: 3.0879166666666666\n",
      "median: 3.0\n",
      "std: 1.505884234059474\n",
      "max: 9.0\n",
      "min: 0.0\n",
      "\n",
      "\n",
      "kurtosis: -1.262387399377365\n",
      "skewness: 0.48285868412261784\n",
      "\n",
      "\n",
      "hfe calculations\n"
     ]
    },
    {
     "data": {
      "image/png": "[encoded data removed]",
      "text/plain": [
       "<Figure size 432x288 with 1 Axes>"
      ]
     },
     "metadata": {
      "needs_background": "light"
     },
     "output_type": "display_data"
    },
    {
     "name": "stdout",
     "output_type": "stream",
     "text": [
      "mean: 3.9466666666666668\n",
      "median: 4.0\n",
      "std: 1.674959369324787\n",
      "max: 11.0\n",
      "min: 0.0\n",
      "\n",
      "\n",
      "kurtosis: -1.5711961123731086\n",
      "skewness: 0.27661188938218984\n",
      "\n",
      "\n",
      "hff calculations\n"
     ]
    },
    {
     "data": {
      "image/png": "[encoded data removed]",
      "text/plain": [
       "<Figure size 432x288 with 1 Axes>"
      ]
     },
     "metadata": {
      "needs_background": "light"
     },
     "output_type": "display_data"
    },
    {
     "name": "stdout",
     "output_type": "stream",
     "text": [
      "mean: 3.9058333333333333\n",
      "median: 4.0\n",
      "std: 1.7479414479768924\n",
      "max: 11.0\n",
      "min: 0.0\n",
      "\n",
      "\n",
      "kurtosis: -1.3603092885405366\n",
      "skewness: 0.34769558371623893\n",
      "\n",
      "\n"
     ]
    }
   ],
   "source": [
    "for i in range(8):\n",
    "    print(variable_names[i]+\" calculations\")\n",
    "\n",
    "    tail_dist_hist = np.histogram(variables[i],bins=np.arange(0,11,1), density=True)\n",
    "    np.savetxt(variable_names[i]+\"_hbonds_prob_dist.dat\", tail_dist_hist[0])\n",
    "    plt.hist(variables[i], bins=np.arange(0,11,1), density=True);\n",
    "    plt.savefig(variable_names[i]+\"_hbonds.png\")\n",
    "    plt.show()\n",
    "    plt.close()\n",
    "    print(\"mean: \"+str(np.mean(variables[i])))\n",
    "    print(\"median: \"+str(np.median(variables[i])))\n",
    "    print(\"std: \"+str(np.std(variables[i])))\n",
    "    print(\"max: \"+str(np.max(variables[i])))\n",
    "    print(\"min: \"+str(np.min(variables[i])))\n",
    "    print(\"\\n\")\n",
    "    print(\"kurtosis: \"+str(kurtosis(tail_dist_hist[0])))\n",
    "    print(\"skewness: \"+str(skew(tail_dist_hist[0])))\n",
    "    print(\"\\n\")"
   ]
  },
  {
   "cell_type": "code",
   "execution_count": 11,
   "metadata": {},
   "outputs": [],
   "source": [
    "np.savetxt(\"bin_size_hbonds.dat\",np.arange(0,11,1),fmt=\"%d\")"
   ]
  },
  {
   "cell_type": "code",
   "execution_count": 8,
   "metadata": {},
   "outputs": [
    {
     "name": "stdout",
     "output_type": "stream",
     "text": [
      "heb calculations\n",
      "hed calculations\n",
      "hey calculations\n",
      "hf1 calculations\n",
      "hfb calculations\n",
      "hfc calculations\n",
      "hfe calculations\n",
      "hff calculations\n",
      "[3.16, 3.12, 3.21, 3.86, 3.53, 3.09, 3.95, 3.91]\n"
     ]
    }
   ],
   "source": [
    "hbonds_mean_list_dec = []\n",
    "for i in range(8):\n",
    "    print(variable_names[i]+\" calculations\")\n",
    "\n",
    "    hbonds_mean_list_dec.append(np.around(np.mean(variables[i]), decimals=2))\n",
    "print(hbonds_mean_list_dec)"
   ]
  },
  {
   "cell_type": "code",
   "execution_count": 5,
   "metadata": {},
   "outputs": [
    {
     "name": "stdout",
     "output_type": "stream",
     "text": [
      "heb calculations\n",
      "1.4440115203256978\n",
      "hed calculations\n",
      "1.607140101408572\n",
      "hey calculations\n",
      "1.6106067158234365\n",
      "hf1 calculations\n",
      "1.6636363597553403\n",
      "hfb calculations\n",
      "1.666313295872058\n",
      "hfc calculations\n",
      "1.505884234059474\n",
      "hfe calculations\n",
      "1.674959369324787\n",
      "hff calculations\n",
      "1.7479414479768924\n"
     ]
    }
   ],
   "source": [
    "for i in range(8):\n",
    "    print(variable_names[i]+\" calculations\")\n",
    "\n",
    "    print(np.std(variables[i]))"
   ]
  },
  {
   "cell_type": "code",
   "execution_count": 7,
   "metadata": {},
   "outputs": [],
   "source": [
    "    array_1 = np.loadtxt(\"5hfb_eq_hbonds.dat\")\n",
    "    array_2 = np.loadtxt(\"5hfb_protein_eq_hbonds.dat\")"
   ]
  },
  {
   "cell_type": "code",
   "execution_count": 8,
   "metadata": {},
   "outputs": [
    {
     "name": "stdout",
     "output_type": "stream",
     "text": [
      "3.3066666666666666\n",
      "1.5888010853750347\n"
     ]
    }
   ],
   "source": [
    "print(np.mean(array_1[:,1]))\n",
    "print(np.std(array_1[:,1]))"
   ]
  },
  {
   "cell_type": "code",
   "execution_count": 9,
   "metadata": {},
   "outputs": [
    {
     "name": "stdout",
     "output_type": "stream",
     "text": [
      "3.7533333333333334\n",
      "1.7114775942312408\n"
     ]
    }
   ],
   "source": [
    "print(np.mean(array_2[:,1]))\n",
    "print(np.std(array_2[:,1]))"
   ]
  },
  {
   "cell_type": "code",
   "execution_count": null,
   "metadata": {},
   "outputs": [],
   "source": []
  }
 ],
 "metadata": {
  "kernelspec": {
   "display_name": "Python 3",
   "language": "python",
   "name": "python3"
  },
  "language_info": {
   "codemirror_mode": {
    "name": "ipython",
    "version": 3
   },
   "file_extension": ".py",
   "mimetype": "text/x-python",
   "name": "python",
   "nbconvert_exporter": "python",
   "pygments_lexer": "ipython3",
   "version": "3.7.6"
  }
 },
 "nbformat": 4,
 "nbformat_minor": 4
}
